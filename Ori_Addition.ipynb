{
 "cells": [
  {
   "cell_type": "code",
   "execution_count": 1,
   "metadata": {},
   "outputs": [
    {
     "name": "stderr",
     "output_type": "stream",
     "text": [
      "Using TensorFlow backend.\n"
     ]
    }
   ],
   "source": [
    "from keras import layers\n",
    "from keras.models import Sequential\n",
    "from keras.models import load_model\n",
    "import numpy as np\n",
    "import copy\n",
    "import os\n",
    "import time\n",
    "from six.moves import range"
   ]
  },
  {
   "cell_type": "markdown",
   "metadata": {},
   "source": [
    "# Parameters Config"
   ]
  },
  {
   "cell_type": "code",
   "execution_count": 2,
   "metadata": {},
   "outputs": [],
   "source": [
    "class colors:\n",
    "    ok = '\\033[92m'\n",
    "    fail = '\\033[91m'\n",
    "    close = '\\033[0m'"
   ]
  },
  {
   "cell_type": "code",
   "execution_count": 3,
   "metadata": {},
   "outputs": [],
   "source": [
    "DATA_SIZE = 80\n",
    "DIGITS = 4\n",
    "REVERSE = False\n",
    "MAXLEN = DIGITS + 1 + DIGITS\n",
    "chars = '0123456789+ '\n",
    "RNN = layers.LSTM\n",
    "HIDDEN_SIZE = 128\n",
    "BATCH_SIZE = 128\n",
    "LAYERS = 1\n",
    "ITERATIONS=10\n",
    "TRAINING_SIZE = int(DATA_SIZE * 0.8)\n",
    "TESTING_SIZE = DATA_SIZE - TRAINING_SIZE\n",
    "HISTORY = []"
   ]
  },
  {
   "cell_type": "code",
   "execution_count": 4,
   "metadata": {},
   "outputs": [],
   "source": [
    "class CharacterTable(object):\n",
    "    def __init__(self, chars):\n",
    "        self.chars = sorted(set(chars))\n",
    "        self.char_indices = dict((c, i) for i, c in enumerate(self.chars))\n",
    "        self.indices_char = dict((i, c) for i, c in enumerate(self.chars))\n",
    "    \n",
    "    def encode(self, C, num_rows):\n",
    "        x = np.zeros((num_rows, len(self.chars)))\n",
    "        for i, c in enumerate(C):\n",
    "            x[i, self.char_indices[c]] = 1\n",
    "        return x\n",
    "    \n",
    "    def decode(self, x, calc_argmax=True):\n",
    "        if calc_argmax:\n",
    "            x = x.argmax(axis=-1)\n",
    "        return \"\".join(self.indices_char[i] for i in x)"
   ]
  },
  {
   "cell_type": "code",
   "execution_count": 5,
   "metadata": {},
   "outputs": [],
   "source": [
    "ctable = CharacterTable(chars)"
   ]
  },
  {
   "cell_type": "code",
   "execution_count": 6,
   "metadata": {},
   "outputs": [
    {
     "data": {
      "text/plain": [
       "{0: ' ',\n",
       " 1: '+',\n",
       " 2: '0',\n",
       " 3: '1',\n",
       " 4: '2',\n",
       " 5: '3',\n",
       " 6: '4',\n",
       " 7: '5',\n",
       " 8: '6',\n",
       " 9: '7',\n",
       " 10: '8',\n",
       " 11: '9'}"
      ]
     },
     "execution_count": 6,
     "metadata": {},
     "output_type": "execute_result"
    }
   ],
   "source": [
    "ctable.indices_char"
   ]
  },
  {
   "cell_type": "markdown",
   "metadata": {},
   "source": [
    "# Data Generation"
   ]
  },
  {
   "cell_type": "code",
   "execution_count": 7,
   "metadata": {},
   "outputs": [
    {
     "name": "stdout",
     "output_type": "stream",
     "text": [
      "Generating data...\n",
      "Total addition questions: 80\n"
     ]
    }
   ],
   "source": [
    "questions = []\n",
    "expected = []\n",
    "seen = set()\n",
    "print('Generating data...')\n",
    "while len(questions) < DATA_SIZE:\n",
    "    f = lambda: int(''.join(np.random.choice(list('0123456789')) for i in range(np.random.randint(1, DIGITS + 1))))\n",
    "    a, b = f(), f()\n",
    "    key = tuple(sorted((a, b)))\n",
    "    if key in seen:\n",
    "        continue\n",
    "    seen.add(key)\n",
    "    q = '{}+{}'.format(a, b)\n",
    "    query = q + ' ' * (MAXLEN - len(q))\n",
    "    ans = str(a + b)\n",
    "    ans += ' ' * (DIGITS + 1 - len(ans))\n",
    "    if REVERSE:\n",
    "        query = query[::-1]\n",
    "    questions.append(query)\n",
    "    expected.append(ans)\n",
    "print('Total addition questions:', len(questions))"
   ]
  },
  {
   "cell_type": "code",
   "execution_count": 8,
   "metadata": {},
   "outputs": [
    {
     "name": "stdout",
     "output_type": "stream",
     "text": [
      "['6077+7   ', '532+9452 ', '3+8      ', '780+6    ', '8921+6   '] ['6084 ', '9984 ', '11   ', '786  ', '8927 ']\n"
     ]
    }
   ],
   "source": [
    "print(questions[:5], expected[:5])"
   ]
  },
  {
   "cell_type": "markdown",
   "metadata": {},
   "source": [
    "# Processing"
   ]
  },
  {
   "cell_type": "code",
   "execution_count": 9,
   "metadata": {},
   "outputs": [
    {
     "name": "stdout",
     "output_type": "stream",
     "text": [
      "Vectorization...\n"
     ]
    }
   ],
   "source": [
    "print('Vectorization...')\n",
    "x = np.zeros((len(questions), MAXLEN, len(chars)), dtype=np.bool)\n",
    "y = np.zeros((len(expected), DIGITS + 1, len(chars)), dtype=np.bool)\n",
    "for i, sentence in enumerate(questions):\n",
    "    x[i] = ctable.encode(sentence, MAXLEN)\n",
    "for i, sentence in enumerate(expected):\n",
    "    y[i] = ctable.encode(sentence, DIGITS + 1)"
   ]
  },
  {
   "cell_type": "code",
   "execution_count": 10,
   "metadata": {},
   "outputs": [
    {
     "name": "stdout",
     "output_type": "stream",
     "text": [
      "Training Data:\n",
      "(58, 9, 12)\n",
      "(58, 5, 12)\n",
      "Validation Data:\n",
      "(6, 9, 12)\n",
      "(6, 5, 12)\n",
      "Testing Data:\n",
      "(16, 9, 12)\n",
      "(16, 5, 12)\n"
     ]
    }
   ],
   "source": [
    "indices = np.arange(len(y))\n",
    "np.random.shuffle(indices)\n",
    "x = x[indices]\n",
    "y = y[indices]\n",
    "\n",
    "# train_test_split\n",
    "train_x = x[:TRAINING_SIZE]\n",
    "train_y = y[:TRAINING_SIZE]\n",
    "test_x = x[TRAINING_SIZE:]\n",
    "test_y = y[TRAINING_SIZE:]\n",
    "\n",
    "split_at = len(train_x) - len(train_x) // 10\n",
    "(x_train, x_val) = train_x[:split_at], train_x[split_at:]\n",
    "(y_train, y_val) = train_y[:split_at], train_y[split_at:]\n",
    "\n",
    "print('Training Data:')\n",
    "print(x_train.shape)\n",
    "print(y_train.shape)\n",
    "\n",
    "print('Validation Data:')\n",
    "print(x_val.shape)\n",
    "print(y_val.shape)\n",
    "\n",
    "print('Testing Data:')\n",
    "print(test_x.shape)\n",
    "print(test_y.shape)"
   ]
  },
  {
   "cell_type": "code",
   "execution_count": 11,
   "metadata": {},
   "outputs": [
    {
     "name": "stdout",
     "output_type": "stream",
     "text": [
      "input:  [[[False False False False False False False False False  True False False]\n",
      "  [False False False False False False False False False False  True False]\n",
      "  [False False  True False False False False False False False False False]\n",
      "  [False  True False False False False False False False False False False]\n",
      "  [False False False False False False False False  True False False False]\n",
      "  [ True False False False False False False False False False False False]\n",
      "  [ True False False False False False False False False False False False]\n",
      "  [ True False False False False False False False False False False False]\n",
      "  [ True False False False False False False False False False False False]]\n",
      "\n",
      " [[False False False  True False False False False False False False False]\n",
      "  [False False False False False False  True False False False False False]\n",
      "  [False False False False False False False False  True False False False]\n",
      "  [False False False False False False False False False False False  True]\n",
      "  [False  True False False False False False False False False False False]\n",
      "  [False False False False False False False False False  True False False]\n",
      "  [False False  True False False False False False False False False False]\n",
      "  [False False  True False False False False False False False False False]\n",
      "  [False False False False False False False False False False  True False]]\n",
      "\n",
      " [[False False False False False  True False False False False False False]\n",
      "  [False False False False False False False  True False False False False]\n",
      "  [False False False False False False  True False False False False False]\n",
      "  [False False False False False False  True False False False False False]\n",
      "  [False  True False False False False False False False False False False]\n",
      "  [False False False False False False False  True False False False False]\n",
      "  [False False False False False False False False  True False False False]\n",
      "  [ True False False False False False False False False False False False]\n",
      "  [ True False False False False False False False False False False False]]] \n",
      "\n",
      " label:  [[[False False False False False False False False False  True False False]\n",
      "  [False False False False False False False False False False  True False]\n",
      "  [False False False False False False False False  True False False False]\n",
      "  [ True False False False False False False False False False False False]\n",
      "  [ True False False False False False False False False False False False]]\n",
      "\n",
      " [[False False False False False False False False False False  True False]\n",
      "  [False False False False False False  True False False False False False]\n",
      "  [False False False False False False False False False  True False False]\n",
      "  [False False False False False False False False False  True False False]\n",
      "  [ True False False False False False False False False False False False]]\n",
      "\n",
      " [[False False False False False  True False False False False False False]\n",
      "  [False False False False False False False False  True False False False]\n",
      "  [False False  True False False False False False False False False False]\n",
      "  [False False  True False False False False False False False False False]\n",
      "  [ True False False False False False False False False False False False]]]\n"
     ]
    }
   ],
   "source": [
    "print(\"input: \", x_train[:3], '\\n\\n', \"label: \", y_train[:3])"
   ]
  },
  {
   "cell_type": "markdown",
   "metadata": {},
   "source": [
    "# Build Model"
   ]
  },
  {
   "cell_type": "code",
   "execution_count": 12,
   "metadata": {},
   "outputs": [
    {
     "name": "stdout",
     "output_type": "stream",
     "text": [
      "Build model...\n",
      "_________________________________________________________________\n",
      "Layer (type)                 Output Shape              Param #   \n",
      "=================================================================\n",
      "lstm_1 (LSTM)                (None, 128)               72192     \n",
      "_________________________________________________________________\n",
      "repeat_vector_1 (RepeatVecto (None, 5, 128)            0         \n",
      "_________________________________________________________________\n",
      "lstm_2 (LSTM)                (None, 5, 128)            131584    \n",
      "_________________________________________________________________\n",
      "time_distributed_1 (TimeDist (None, 5, 12)             1548      \n",
      "_________________________________________________________________\n",
      "activation_1 (Activation)    (None, 5, 12)             0         \n",
      "=================================================================\n",
      "Total params: 205,324\n",
      "Trainable params: 205,324\n",
      "Non-trainable params: 0\n",
      "_________________________________________________________________\n"
     ]
    }
   ],
   "source": [
    "print('Build model...')\n",
    "model = Sequential()\n",
    "model.add(RNN(HIDDEN_SIZE, input_shape=(MAXLEN, len(chars))))\n",
    "model.add(layers.RepeatVector(DIGITS + 1))\n",
    "for _ in range(LAYERS):\n",
    "    model.add(RNN(HIDDEN_SIZE, return_sequences=True))\n",
    "\n",
    "model.add(layers.TimeDistributed(layers.Dense(len(chars))))\n",
    "model.add(layers.Activation('softmax'))\n",
    "model.compile(loss='categorical_crossentropy',\n",
    "              optimizer='adam',\n",
    "              metrics=['accuracy'])\n",
    "model.summary()"
   ]
  },
  {
   "cell_type": "markdown",
   "metadata": {},
   "source": [
    "# Training"
   ]
  },
  {
   "cell_type": "code",
   "execution_count": 14,
   "metadata": {},
   "outputs": [
    {
     "name": "stdout",
     "output_type": "stream",
     "text": [
      "\n",
      "--------------------------------------------------\n",
      "Iteration 1\n",
      "Train on 58 samples, validate on 6 samples\n",
      "Epoch 1/1\n",
      "58/58 [==============================] - 1s 10ms/step - loss: 2.1118 - acc: 0.3483 - val_loss: 2.0576 - val_acc: 0.3667\n"
     ]
    }
   ],
   "source": [
    "val_acc = 0\n",
    "iteration = 1\n",
    "start = time.time()\n",
    "while val_acc < 0.9:\n",
    "    print()\n",
    "    print('-' * 50)\n",
    "    print('Iteration', iteration)\n",
    "    results = model.fit(x_train, y_train,\n",
    "                              batch_size=BATCH_SIZE,\n",
    "                              epochs=1,\n",
    "                              validation_data=(x_val, y_val))\n",
    "    \n",
    "    HISTORY.append([str(results.history[i][0]) for i in sorted(results.history)])\n",
    "    val_acc = results.history[\"val_acc\"][0]\n",
    "    iteration += 1\n",
    "end = time.time() - start"
   ]
  },
  {
   "cell_type": "code",
   "execution_count": 15,
   "metadata": {},
   "outputs": [],
   "source": [
    "model_name = \"{:d}d_adder.h5\".format(DIGITS)\n",
    "model.save(os.path.join(\"model\",model_name))\n",
    "log_name = \"{:d}d_adder.csv\".format(DIGITS)\n",
    "with open(os.path.join(\"log\",log_name), 'w') as wf:\n",
    "    wf.write('acc,loss,val_acc,val_loss\\n')\n",
    "    for line in HISTORY:\n",
    "        wf.write(\",\".join(line)+\"\\n\")\n",
    "    wf.write(\"Time,{}\\n\".format(str(end)))"
   ]
  },
  {
   "cell_type": "markdown",
   "metadata": {},
   "source": [
    "# Validation"
   ]
  },
  {
   "cell_type": "code",
   "execution_count": 16,
   "metadata": {},
   "outputs": [
    {
     "name": "stdout",
     "output_type": "stream",
     "text": [
      "Q 3754+6838 T 10592 \u001b[91m☒\u001b[0m 3    \n",
      "Q 8127+2    T 8129  \u001b[91m☒\u001b[0m      \n",
      "Q 156+239   T 395   \u001b[91m☒\u001b[0m      \n",
      "Q 2252+236  T 2488  \u001b[91m☒\u001b[0m      \n",
      "Q 2+76      T 78    \u001b[91m☒\u001b[0m      \n",
      "Q 15+7666   T 7681  \u001b[91m☒\u001b[0m      \n",
      "Q 3+8       T 11    \u001b[91m☒\u001b[0m      \n",
      "Q 944+3261  T 4205  \u001b[91m☒\u001b[0m      \n",
      "Q 86+4045   T 4131  \u001b[91m☒\u001b[0m      \n",
      "Q 2+4       T 6     \u001b[91m☒\u001b[0m      \n",
      "Q 2+779     T 781   \u001b[91m☒\u001b[0m      \n",
      "Q 9137+6    T 9143  \u001b[91m☒\u001b[0m      \n",
      "Q 410+74    T 484   \u001b[91m☒\u001b[0m      \n",
      "Q 84+720    T 804   \u001b[91m☒\u001b[0m      \n",
      "Q 518+29    T 547   \u001b[91m☒\u001b[0m      \n",
      "Q 9983+7736 T 17719 \u001b[91m☒\u001b[0m 3    \n",
      "MSG : Accuracy is 0.0\n"
     ]
    }
   ],
   "source": [
    "right = 0\n",
    "preds = model.predict_classes(test_x, verbose=0)\n",
    "for i in range(len(preds)):\n",
    "    q = ctable.decode(test_x[i])\n",
    "    correct = ctable.decode(test_y[i])\n",
    "    guess = ctable.decode(preds[i], calc_argmax=False)\n",
    "    print('Q', q[::-1] if REVERSE else q, end=' ')\n",
    "    print('T', correct, end=' ')\n",
    "    if correct == guess:\n",
    "        print(colors.ok + '☑' + colors.close, end=' ')\n",
    "        right += 1\n",
    "    else:\n",
    "        print(colors.fail + '☒' + colors.close, end=' ')\n",
    "    print(guess)\n",
    "print(\"MSG : Accuracy is {}\".format(right / len(preds)))"
   ]
  },
  {
   "cell_type": "code",
   "execution_count": null,
   "metadata": {},
   "outputs": [],
   "source": []
  }
 ],
 "metadata": {
  "kernelspec": {
   "display_name": "Python 3",
   "language": "python",
   "name": "python3"
  },
  "language_info": {
   "codemirror_mode": {
    "name": "ipython",
    "version": 3
   },
   "file_extension": ".py",
   "mimetype": "text/x-python",
   "name": "python",
   "nbconvert_exporter": "python",
   "pygments_lexer": "ipython3",
   "version": "3.4.3"
  }
 },
 "nbformat": 4,
 "nbformat_minor": 2
}
